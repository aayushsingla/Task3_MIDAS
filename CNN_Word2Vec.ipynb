{
 "cells": [
  {
   "cell_type": "code",
   "execution_count": 27,
   "id": "mysterious-accident",
   "metadata": {
    "colab": {
     "base_uri": "https://localhost:8080/"
    },
    "id": "classified-correspondence",
    "outputId": "6a4595a0-e3a0-499f-8e58-03de793b1534"
   },
   "outputs": [
    {
     "name": "stdout",
     "output_type": "stream",
     "text": [
      "Defaulting to user installation because normal site-packages is not writeable\n",
      "Requirement already satisfied: gensim in /home/aayush/.local/lib/python3.8/site-packages (4.0.1)\n",
      "Requirement already satisfied: scipy>=0.18.1 in /home/aayush/.local/lib/python3.8/site-packages (from gensim) (1.6.1)\n",
      "Requirement already satisfied: smart-open>=1.8.1 in /home/aayush/.local/lib/python3.8/site-packages (from gensim) (5.0.0)\n",
      "Requirement already satisfied: numpy>=1.11.3 in /home/aayush/.local/lib/python3.8/site-packages (from gensim) (1.19.5)\n",
      "4\n",
      "2.4.0\n"
     ]
    }
   ],
   "source": [
    "!pip3 install --upgrade gensim\n",
    "import pandas as pd\n",
    "import numpy as np\n",
    "import matplotlib.pyplot as plt\n",
    "import seaborn as sns\n",
    "from sklearn import feature_extraction, model_selection, naive_bayes, pipeline, manifold, preprocessing, metrics as m\n",
    "import multiprocessing\n",
    "from gensim.models.word2vec import Word2Vec\n",
    "cores = multiprocessing.cpu_count() # Count the number of cores in a computer\n",
    "from gensim.models.phrases import Phrases, Phraser\n",
    "import nltk\n",
    "print(cores)\n",
    "from time import time\n",
    "import tensorflow as tf\n",
    "from tensorflow.keras import models, layers, preprocessing as kprocessing\n",
    "from tensorflow.keras import backend as K\n",
    "print(tf.__version__)\n"
   ]
  },
  {
   "cell_type": "code",
   "execution_count": 41,
   "id": "respective-liberty",
   "metadata": {
    "colab": {
     "base_uri": "https://localhost:8080/"
    },
    "id": "configured-junior",
    "outputId": "5c4384c6-b310-49d4-a602-6bd9e3532346"
   },
   "outputs": [
    {
     "name": "stdout",
     "output_type": "stream",
     "text": [
      "our training set contains 9879 examples\n",
      "our test set contains 4235 examples\n"
     ]
    }
   ],
   "source": [
    "dataset = pd.read_csv('/content/imbalanced_dataset_500.csv')\n",
    "train, test = model_selection.train_test_split(dataset, test_size=0.3)\n",
    "x_train = train[\"pre_processed_text\"].values\n",
    "x_test = test[\"pre_processed_text\"].values\n",
    "y_train = train[\"category\"].values\n",
    "y_test = test[\"category\"].values\n",
    "print(\"our training set contains %d examples\"%(len(x_train)))\n",
    "print(\"our test set contains %d examples\"%(len(x_test)))"
   ]
  },
  {
   "cell_type": "code",
   "execution_count": 42,
   "id": "senior-hanging",
   "metadata": {
    "colab": {
     "base_uri": "https://localhost:8080/"
    },
    "id": "false-providence",
    "outputId": "6dc8e802-cd7b-4b93-b044-78560c3c7d88"
   },
   "outputs": [
    {
     "name": "stdout",
     "output_type": "stream",
     "text": [
      "['Automotive' \"Women'sClothing\" 'Footwear' ... 'Jewellery' 'Jewellery'\n",
      " 'BeautyandPersonalCare']\n",
      "['BeautyandPersonalCare' \"Women'sClothing\" 'BeautyandPersonalCare' ...\n",
      " 'BeautyandPersonalCare' 'Jewellery' 'BeautyandPersonalCare']\n",
      "[ 0 12  3 ...  6  6  1]\n",
      "[ 1 12  1 ...  1  6  1]\n"
     ]
    }
   ],
   "source": [
    "## encode y\n",
    "dic_y_mapping = {n:label for n,label in \n",
    "                 enumerate(np.unique(y_train))}\n",
    "inverse_dic = {v:k for k,v in dic_y_mapping.items()}\n",
    "print(y_train)\n",
    "print(y_test)\n",
    "Y_train = np.array([inverse_dic[y] for y in y_train])\n",
    "Y_test = np.array([inverse_dic[y] for y in y_test])\n",
    "print(Y_train)\n",
    "print(Y_test)"
   ]
  },
  {
   "cell_type": "code",
   "execution_count": 43,
   "id": "stretch-western",
   "metadata": {
    "colab": {
     "base_uri": "https://localhost:8080/"
    },
    "id": "typical-george",
    "outputId": "688480a7-6199-485c-c35e-eaec75d1274c"
   },
   "outputs": [
    {
     "name": "stdout",
     "output_type": "stream",
     "text": [
      "Time to build vocab: 0.01 mins\n",
      "9879\n"
     ]
    }
   ],
   "source": [
    "w2v_model = Word2Vec(vector_size = 300,window=8, min_count=1, sg=1,  workers=cores-1)\n",
    "word_sentences = list()\n",
    "for x in x_train:\n",
    "    word_sentences.append(x.split())\n",
    "t = time()\n",
    "w2v_model.build_vocab(word_sentences, progress_per=100)\n",
    "print('Time to build vocab: {} mins'.format(round((time() - t) / 60, 2)))\n",
    "print(len(word_sentences))"
   ]
  },
  {
   "cell_type": "code",
   "execution_count": 44,
   "id": "happy-sapphire",
   "metadata": {
    "colab": {
     "base_uri": "https://localhost:8080/"
    },
    "id": "parental-employee",
    "outputId": "3fb28cd8-d725-4a45-a9d8-5a38f9fbd82f"
   },
   "outputs": [
    {
     "name": "stdout",
     "output_type": "stream",
     "text": [
      "Time to train the model: 2.43 mins\n"
     ]
    }
   ],
   "source": [
    "t = time()\n",
    "\n",
    "w2v_model.train(word_sentences, total_examples=w2v_model.corpus_count, epochs=30, report_delay=1)\n",
    "\n",
    "print('Time to train the model: {} mins'.format(round((time() - t) / 60, 2)))\n"
   ]
  },
  {
   "cell_type": "code",
   "execution_count": 45,
   "id": "coordinated-ocean",
   "metadata": {
    "colab": {
     "base_uri": "https://localhost:8080/"
    },
    "id": "overhead-township",
    "outputId": "4301ffc4-438d-482d-8741-370114e7fc35"
   },
   "outputs": [
    {
     "data": {
      "text/plain": [
       "[('stichinggolden', 0.48919832706451416),\n",
       " ('hey', 0.464607298374176),\n",
       " ('specialviral', 0.4643440842628479),\n",
       " ('patialas', 0.46431633830070496),\n",
       " ('madden', 0.46205583214759827),\n",
       " ('viral', 0.4563966393470764),\n",
       " ('animated', 0.4540029466152191),\n",
       " ('dexterously', 0.449835866689682),\n",
       " ('hunger', 0.4436429738998413),\n",
       " ('hat', 0.44205334782600403)]"
      ]
     },
     "execution_count": 45,
     "metadata": {
      "tags": []
     },
     "output_type": "execute_result"
    }
   ],
   "source": [
    "w2v_model.wv.most_similar(positive=['girl'])"
   ]
  },
  {
   "cell_type": "code",
   "execution_count": 15,
   "id": "contemporary-registration",
   "metadata": {
    "id": "removed-sentence"
   },
   "outputs": [],
   "source": []
  },
  {
   "cell_type": "code",
   "execution_count": 46,
   "id": "relative-reputation",
   "metadata": {
    "id": "circular-moderator"
   },
   "outputs": [],
   "source": [
    "## tokenize text\n",
    "tokenizer = kprocessing.text.Tokenizer(lower=True, split=' ', \n",
    "                     oov_token=\"NaN\", \n",
    "                     filters='!\"#$%&()*+,-./:;<=>?@[\\\\]^_`{|}~\\t\\n')\n",
    "tokenizer.fit_on_texts(x_train)\n",
    "## create sequence\n",
    "lst_text2seq= tokenizer.texts_to_sequences(x_train)\n",
    "## padding sequence\n",
    "  \n",
    "X_train = kprocessing.sequence.pad_sequences(lst_text2seq, \n",
    "                    maxlen=600, padding=\"post\", truncating=\"post\")\n"
   ]
  },
  {
   "cell_type": "code",
   "execution_count": 47,
   "id": "preliminary-biodiversity",
   "metadata": {
    "id": "effective-match"
   },
   "outputs": [],
   "source": [
    "lst_text2seq= tokenizer.texts_to_sequences(x_test)\n",
    "## padding sequence\n",
    "X_test = kprocessing.sequence.pad_sequences(lst_text2seq, \n",
    "                    maxlen=600, padding=\"post\", truncating=\"post\")\n"
   ]
  },
  {
   "cell_type": "code",
   "execution_count": 48,
   "id": "cellular-sydney",
   "metadata": {
    "id": "electoral-sleeve"
   },
   "outputs": [],
   "source": [
    "\n",
    "## start the matrix (length of vocabulary x vector size) with all 0s\n",
    "embeddings = np.zeros((len(w2v_model.wv.key_to_index)+2, 300))\n",
    "for word,idx in w2v_model.wv.key_to_index.items():\n",
    "    ## update the row with vector\n",
    "    try:\n",
    "        embeddings[idx] =  w2v_model.wv.get_vector(word)\n",
    "    ## if word not in model then skip and the row stays all 0s\n",
    "    except:\n",
    "        pass"
   ]
  },
  {
   "cell_type": "code",
   "execution_count": 49,
   "id": "secondary-aviation",
   "metadata": {
    "colab": {
     "base_uri": "https://localhost:8080/"
    },
    "id": "developing-restaurant",
    "outputId": "edc5601a-1713-4454-8a94-bb69c055c797"
   },
   "outputs": [
    {
     "name": "stdout",
     "output_type": "stream",
     "text": [
      "(17148, 300)\n",
      "17147\n"
     ]
    }
   ],
   "source": [
    "print(embeddings.shape)\n",
    "print(np.max(X_train))"
   ]
  },
  {
   "cell_type": "code",
   "execution_count": 50,
   "id": "dominican-actor",
   "metadata": {
    "colab": {
     "base_uri": "https://localhost:8080/"
    },
    "id": "liquid-above",
    "outputId": "caef17e5-133e-4d97-b913-7ed2cf9d381e"
   },
   "outputs": [
    {
     "name": "stdout",
     "output_type": "stream",
     "text": [
      "Model: \"model_3\"\n",
      "_________________________________________________________________\n",
      "Layer (type)                 Output Shape              Param #   \n",
      "=================================================================\n",
      "input_4 (InputLayer)         [(None, 600)]             0         \n",
      "_________________________________________________________________\n",
      "embedding_3 (Embedding)      (None, 600, 300)          5144400   \n",
      "_________________________________________________________________\n",
      "conv1d_6 (Conv1D)            (None, 598, 128)          115328    \n",
      "_________________________________________________________________\n",
      "max_pooling1d_6 (MaxPooling1 (None, 119, 128)          0         \n",
      "_________________________________________________________________\n",
      "conv1d_7 (Conv1D)            (None, 117, 64)           24640     \n",
      "_________________________________________________________________\n",
      "max_pooling1d_7 (MaxPooling1 (None, 23, 64)            0         \n",
      "_________________________________________________________________\n",
      "flatten_3 (Flatten)          (None, 1472)              0         \n",
      "_________________________________________________________________\n",
      "dense_6 (Dense)              (None, 64)                94272     \n",
      "_________________________________________________________________\n",
      "dense_7 (Dense)              (None, 13)                845       \n",
      "=================================================================\n",
      "Total params: 5,379,485\n",
      "Trainable params: 235,085\n",
      "Non-trainable params: 5,144,400\n",
      "_________________________________________________________________\n"
     ]
    }
   ],
   "source": [
    "callback = tf.keras.callbacks.EarlyStopping(monitor='loss', patience=3)\n",
    "\n",
    "## input\n",
    "x_in = layers.Input(shape=(600,))\n",
    "## embedding\n",
    "x = layers.Embedding(embeddings.shape[0],  \n",
    "                     embeddings.shape[1],\n",
    "                     weights=[embeddings],\n",
    "                     input_length=600, trainable=False)(x_in)\n",
    "\n",
    "l_cov1= layers.Conv1D(128, 3, activation='relu')(x)\n",
    "l_pool1 = layers.MaxPooling1D(5)(l_cov1)\n",
    "l_cov2 = layers.Conv1D(64, 3, activation='relu')(l_pool1)\n",
    "l_pool2 = layers.MaxPooling1D(5)(l_cov2)\n",
    "l_flat = layers.Flatten()(l_pool2)\n",
    "## final dense layers\n",
    "x = layers.Dense(64, activation='relu')(l_flat)\n",
    "y_out = layers.Dense(13, activation='softmax')(x)\n",
    "## compile\n",
    "model = models.Model(x_in, y_out)\n",
    "model.compile(loss='sparse_categorical_crossentropy',\n",
    "              optimizer='adam', metrics=['accuracy'])\n",
    "\n",
    "model.summary()"
   ]
  },
  {
   "cell_type": "code",
   "execution_count": 51,
   "id": "close-distribution",
   "metadata": {
    "colab": {
     "base_uri": "https://localhost:8080/"
    },
    "id": "integrated-royal",
    "outputId": "86091dc1-4681-408f-fb23-04c91f107341"
   },
   "outputs": [
    {
     "name": "stdout",
     "output_type": "stream",
     "text": [
      "Epoch 1/50\n",
      "109/109 - 3s - loss: 1.4651 - accuracy: 0.5356 - val_loss: 0.6937 - val_accuracy: 0.8060\n",
      "Epoch 2/50\n",
      "109/109 - 2s - loss: 0.4040 - accuracy: 0.8895 - val_loss: 0.2681 - val_accuracy: 0.9339\n",
      "Epoch 3/50\n",
      "109/109 - 2s - loss: 0.1201 - accuracy: 0.9718 - val_loss: 0.1593 - val_accuracy: 0.9609\n",
      "Epoch 4/50\n",
      "109/109 - 2s - loss: 0.0493 - accuracy: 0.9920 - val_loss: 0.1368 - val_accuracy: 0.9642\n",
      "Epoch 5/50\n",
      "109/109 - 2s - loss: 0.0227 - accuracy: 0.9962 - val_loss: 0.1275 - val_accuracy: 0.9696\n",
      "Epoch 6/50\n",
      "109/109 - 2s - loss: 0.0313 - accuracy: 0.9933 - val_loss: 0.1545 - val_accuracy: 0.9609\n",
      "Epoch 7/50\n",
      "109/109 - 2s - loss: 0.0091 - accuracy: 0.9990 - val_loss: 0.1098 - val_accuracy: 0.9696\n",
      "Epoch 8/50\n",
      "109/109 - 2s - loss: 0.0043 - accuracy: 0.9996 - val_loss: 0.1051 - val_accuracy: 0.9740\n",
      "Epoch 9/50\n",
      "109/109 - 2s - loss: 0.0026 - accuracy: 0.9997 - val_loss: 0.1223 - val_accuracy: 0.9703\n",
      "Epoch 10/50\n",
      "109/109 - 2s - loss: 0.0019 - accuracy: 0.9999 - val_loss: 0.1084 - val_accuracy: 0.9733\n",
      "Epoch 11/50\n",
      "109/109 - 2s - loss: 0.0018 - accuracy: 0.9997 - val_loss: 0.1219 - val_accuracy: 0.9717\n",
      "Epoch 12/50\n",
      "109/109 - 2s - loss: 0.0018 - accuracy: 0.9999 - val_loss: 0.1076 - val_accuracy: 0.9737\n",
      "Epoch 13/50\n",
      "109/109 - 2s - loss: 0.0014 - accuracy: 0.9997 - val_loss: 0.1083 - val_accuracy: 0.9744\n",
      "Epoch 14/50\n",
      "109/109 - 2s - loss: 8.9309e-04 - accuracy: 1.0000 - val_loss: 0.1109 - val_accuracy: 0.9744\n",
      "Epoch 15/50\n",
      "109/109 - 2s - loss: 0.0063 - accuracy: 0.9981 - val_loss: 0.2107 - val_accuracy: 0.9464\n",
      "Epoch 16/50\n",
      "109/109 - 2s - loss: 0.0141 - accuracy: 0.9955 - val_loss: 0.1468 - val_accuracy: 0.9646\n",
      "Epoch 17/50\n",
      "109/109 - 2s - loss: 0.0047 - accuracy: 0.9988 - val_loss: 0.1014 - val_accuracy: 0.9760\n"
     ]
    }
   ],
   "source": [
    "## train\n",
    "training = model.fit(x=X_train, y=Y_train, batch_size=64, \n",
    "                     epochs=50, shuffle=True, verbose=2, callbacks=[callback],\n",
    "                     validation_split=0.3)\n"
   ]
  },
  {
   "cell_type": "code",
   "execution_count": 52,
   "id": "changed-milton",
   "metadata": {
    "colab": {
     "base_uri": "https://localhost:8080/",
     "height": 295
    },
    "id": "impressive-disposal",
    "outputId": "cb6038af-ab62-46e7-e929-126dab65f276"
   },
   "outputs": [
    {
     "data": {
      "image/png": "[encoded data removed]",
      "text/plain": [
       "<Figure size 432x288 with 4 Axes>"
      ]
     },
     "metadata": {
      "needs_background": "light",
      "tags": []
     },
     "output_type": "display_data"
    }
   ],
   "source": [
    "## plot loss and accuracy\n",
    "metrics = [k for k in training.history.keys() if (\"loss\" not in k) and (\"val\" not in k)]\n",
    "fig, ax = plt.subplots(nrows=1, ncols=2, sharey=True)\n",
    "ax[0].set(title=\"Training\")\n",
    "ax11 = ax[0].twinx()\n",
    "ax[0].plot(training.history['loss'], color='black')\n",
    "ax[0].set_xlabel('Epochs')\n",
    "ax[0].set_ylabel('Loss', color='black')\n",
    "for metric in metrics:\n",
    "    ax11.plot(training.history[metric], label=metric)\n",
    "ax11.set_ylabel(\"Score\", color='steelblue')\n",
    "ax11.legend()\n",
    "ax[1].set(title=\"Validation\")\n",
    "ax22 = ax[1].twinx()\n",
    "ax[1].plot(training.history['val_loss'], color='black')\n",
    "ax[1].set_xlabel('Epochs')\n",
    "ax[1].set_ylabel('Loss', color='black')\n",
    "for metric in metrics:\n",
    "     ax22.plot(training.history['val_'+metric], label=metric)\n",
    "ax22.set_ylabel(\"Score\", color=\"steelblue\")\n",
    "plt.show()"
   ]
  },
  {
   "cell_type": "code",
   "execution_count": 53,
   "id": "dress-portugal",
   "metadata": {
    "id": "democratic-passion"
   },
   "outputs": [],
   "source": [
    "## test\n",
    "predicted_prob = model.predict(X_test)\n",
    "predicted = [dic_y_mapping[np.argmax(pred)] for pred in \n",
    "             predicted_prob]\n",
    "predicted_vec = [ inverse_dic[p] for p in predicted]"
   ]
  },
  {
   "cell_type": "code",
   "execution_count": null,
   "id": "twenty-undergraduate",
   "metadata": {
    "colab": {
     "base_uri": "https://localhost:8080/"
    },
    "id": "W84eKt9Xa7sn",
    "outputId": "d671dc4a-2d7e-4b65-ab9f-d392ddca196e"
   },
   "outputs": [],
   "source": [
    "print(Y_test)\n",
    "print(predicted)"
   ]
  },
  {
   "cell_type": "code",
   "execution_count": 54,
   "id": "solved-return",
   "metadata": {
    "colab": {
     "base_uri": "https://localhost:8080/",
     "height": 782
    },
    "id": "laughing-analysis",
    "outputId": "15afe835-093b-4bfa-9aaf-eb1c6e64e956"
   },
   "outputs": [
    {
     "data": {
      "image/png": "[encoded data removed]",
      "text/plain": [
       "<Figure size 720x504 with 2 Axes>"
      ]
     },
     "metadata": {
      "needs_background": "light",
      "tags": []
     },
     "output_type": "display_data"
    },
    {
     "name": "stdout",
     "output_type": "stream",
     "text": [
      "              precision    recall  f1-score   support\n",
      "\n",
      "           0       0.97      0.97      0.97       292\n",
      "           1       0.95      0.92      0.93       215\n",
      "           2       0.96      0.91      0.94       178\n",
      "           3       0.97      0.99      0.98       330\n",
      "           4       0.93      0.91      0.92       233\n",
      "           5       0.93      0.98      0.96       144\n",
      "           6       0.99      1.00      0.99       813\n",
      "           7       0.92      0.99      0.95       153\n",
      "           8       0.90      0.96      0.93       192\n",
      "           9       0.99      0.99      0.99       393\n",
      "          10       0.95      0.88      0.91       167\n",
      "          11       1.00      0.98      0.99       144\n",
      "          12       0.99      0.99      0.99       981\n",
      "\n",
      "    accuracy                           0.97      4235\n",
      "   macro avg       0.96      0.96      0.96      4235\n",
      "weighted avg       0.97      0.97      0.97      4235\n",
      "\n"
     ]
    }
   ],
   "source": [
    "conf_mat = m.confusion_matrix(Y_test, predicted_vec,normalize = None)\n",
    "plt.figure(figsize = (10,7))\n",
    "sns.heatmap(conf_mat, annot=True)\n",
    "plt.ylabel('Actual')\n",
    "plt.xlabel('Predicted')\n",
    "plt.show()\n",
    "\n",
    "# target_strings = encoder.inverse_transform(np.arange(20))\n",
    "\n",
    "print(m.classification_report(Y_test, predicted_vec))"
   ]
  },
  {
   "cell_type": "code",
   "execution_count": 26,
   "id": "blind-gossip",
   "metadata": {
    "id": "xrUNN5QSVbrF"
   },
   "outputs": [
    {
     "ename": "NameError",
     "evalue": "name 'dic_y_mapping' is not defined",
     "output_type": "error",
     "traceback": [
      "\u001b[0;31m---------------------------------------------------------------------------\u001b[0m",
      "\u001b[0;31mNameError\u001b[0m                                 Traceback (most recent call last)",
      "\u001b[0;32m<ipython-input-26-5f0e25b8f11e>\u001b[0m in \u001b[0;36m<module>\u001b[0;34m\u001b[0m\n\u001b[0;32m----> 1\u001b[0;31m \u001b[0mdic_y_mapping\u001b[0m\u001b[0;34m[\u001b[0m\u001b[0;36m6\u001b[0m\u001b[0;34m]\u001b[0m\u001b[0;34m\u001b[0m\u001b[0;34m\u001b[0m\u001b[0m\n\u001b[0m",
      "\u001b[0;31mNameError\u001b[0m: name 'dic_y_mapping' is not defined"
     ]
    }
   ],
   "source": [
    "dic_y_mapping[6]"
   ]
  },
  {
   "cell_type": "code",
   "execution_count": null,
   "id": "extraordinary-audio",
   "metadata": {},
   "outputs": [],
   "source": []
  }
 ],
 "metadata": {
  "accelerator": "GPU",
  "colab": {
   "collapsed_sections": [],
   "name": "CNN_Word2Vec.ipynb",
   "provenance": []
  },
  "kernelspec": {
   "display_name": "Python 3",
   "language": "python",
   "name": "python3"
  },
  "language_info": {
   "codemirror_mode": {
    "name": "ipython",
    "version": 3
   },
   "file_extension": ".py",
   "mimetype": "text/x-python",
   "name": "python",
   "nbconvert_exporter": "python",
   "pygments_lexer": "ipython3",
   "version": "3.8.6"
  }
 },
 "nbformat": 4,
 "nbformat_minor": 5
}
