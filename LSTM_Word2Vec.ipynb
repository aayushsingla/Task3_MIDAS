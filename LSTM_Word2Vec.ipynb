{
 "cells": [
  {
   "cell_type": "code",
   "execution_count": 57,
   "id": "electrical-quick",
   "metadata": {},
   "outputs": [
    {
     "name": "stdout",
     "output_type": "stream",
     "text": [
      "4\n",
      "2.4.0\n"
     ]
    }
   ],
   "source": [
    "import pandas as pd\n",
    "import numpy as np\n",
    "import matplotlib.pyplot as plt\n",
    "import seaborn as sns\n",
    "from sklearn import feature_extraction, model_selection, naive_bayes, pipeline, manifold, preprocessing, metrics as m\n",
    "import multiprocessing\n",
    "from gensim.models.word2vec import Word2Vec\n",
    "cores = multiprocessing.cpu_count() # Count the number of cores in a computer\n",
    "from gensim.models.phrases import Phrases, Phraser\n",
    "import nltk\n",
    "print(cores)\n",
    "from time import time\n",
    "import tensorflow as tf\n",
    "from tensorflow.keras import models, layers, preprocessing as kprocessing\n",
    "from tensorflow.keras import backend as K\n",
    "print(tf.__version__)"
   ]
  },
  {
   "cell_type": "code",
   "execution_count": 73,
   "id": "isolated-speaker",
   "metadata": {},
   "outputs": [
    {
     "name": "stdout",
     "output_type": "stream",
     "text": [
      "our training set contains 11090 examples\n",
      "our test set contains 4754 examples\n"
     ]
    }
   ],
   "source": [
    "dataset = pd.read_csv('/home/aayush/task3_midas/datasets/imbalanced_dataset_200.csv')\n",
    "train, test = model_selection.train_test_split(dataset, test_size=0.3)\n",
    "x_train = train[\"pre_processed_text\"].values\n",
    "x_test = test[\"pre_processed_text\"].values\n",
    "y_train = train[\"category\"].values\n",
    "y_test = test[\"category\"].values\n",
    "print(\"our training set contains %d examples\"%(len(x_train)))\n",
    "print(\"our test set contains %d examples\"%(len(x_test)))"
   ]
  },
  {
   "cell_type": "code",
   "execution_count": 79,
   "id": "executive-joshua",
   "metadata": {},
   "outputs": [
    {
     "name": "stdout",
     "output_type": "stream",
     "text": [
      "['BeautyandPersonalCare' 'Jewellery' 'Footwear' ... \"Men'sClothing\"\n",
      " 'Kitchen&Dining' \"Men'sClothing\"]\n",
      "['HomeFurnishing' 'Automotive' 'Jewellery' ... 'Computers'\n",
      " \"Women'sClothing\" 'Sports&Fitness']\n",
      "[ 3  9  5 ... 12 11 12]\n",
      "[ 8  0  9 ...  4 19 15]\n"
     ]
    }
   ],
   "source": [
    "## encode y\n",
    "dic_y_mapping = {n:label for n,label in \n",
    "                 enumerate(np.unique(y_train))}\n",
    "inverse_dic = {v:k for k,v in dic_y_mapping.items()}\n",
    "print(y_train)\n",
    "print(y_test)\n",
    "Y_train = np.array([inverse_dic[y] for y in y_train])\n",
    "Y_test = np.array([inverse_dic[y] for y in y_test])\n",
    "print(Y_train)\n",
    "print(Y_test)"
   ]
  },
  {
   "cell_type": "code",
   "execution_count": 80,
   "id": "mathematical-technical",
   "metadata": {},
   "outputs": [
    {
     "name": "stdout",
     "output_type": "stream",
     "text": [
      "Time to build vocab: 0.01 mins\n",
      "11090\n"
     ]
    }
   ],
   "source": [
    "w2v_model = Word2Vec(vector_size = 300,window=8, min_count=1, sg=1,  workers=cores-1)\n",
    "word_sentences = list()\n",
    "for x in x_train:\n",
    "    word_sentences.append(x.split())\n",
    "t = time()\n",
    "w2v_model.build_vocab(word_sentences, progress_per=100)\n",
    "print('Time to build vocab: {} mins'.format(round((time() - t) / 60, 2)))\n",
    "print(len(word_sentences))"
   ]
  },
  {
   "cell_type": "code",
   "execution_count": 81,
   "id": "detailed-chocolate",
   "metadata": {},
   "outputs": [
    {
     "name": "stdout",
     "output_type": "stream",
     "text": [
      "Time to train the model: 1.74 mins\n"
     ]
    }
   ],
   "source": [
    "t = time()\n",
    "\n",
    "w2v_model.train(word_sentences, total_examples=w2v_model.corpus_count, epochs=30, report_delay=1)\n",
    "\n",
    "print('Time to train the model: {} mins'.format(round((time() - t) / 60, 2)))\n"
   ]
  },
  {
   "cell_type": "code",
   "execution_count": 82,
   "id": "fourth-visit",
   "metadata": {},
   "outputs": [
    {
     "data": {
      "text/plain": [
       "[('sister', 0.7929148077964783),\n",
       " ('scroll', 0.7213189601898193),\n",
       " ('friendship', 0.7204555869102478),\n",
       " ('boyfriend', 0.7081845998764038),\n",
       " ('brother', 0.697708249092102),\n",
       " ('indilego', 0.6957976818084717),\n",
       " ('kanvas', 0.6923874020576477),\n",
       " ('modinn', 0.6795862913131714),\n",
       " ('fashionpedia', 0.6672123074531555),\n",
       " ('redwhite', 0.6669962406158447)]"
      ]
     },
     "execution_count": 82,
     "metadata": {},
     "output_type": "execute_result"
    }
   ],
   "source": [
    "w2v_model.wv.most_similar(positive=['girlfriend'])"
   ]
  },
  {
   "cell_type": "code",
   "execution_count": 83,
   "id": "simple-robert",
   "metadata": {},
   "outputs": [
    {
     "name": "stdout",
     "output_type": "stream",
     "text": [
      "52\n"
     ]
    }
   ],
   "source": [
    "print(w2v_model.wv.key_to_index[\"car\"])"
   ]
  },
  {
   "cell_type": "code",
   "execution_count": 84,
   "id": "shaped-drilling",
   "metadata": {},
   "outputs": [],
   "source": [
    "## tokenize text\n",
    "tokenizer = kprocessing.text.Tokenizer(lower=True, split=' ', \n",
    "                     oov_token=\"NaN\", \n",
    "                     filters='!\"#$%&()*+,-./:;<=>?@[\\\\]^_`{|}~\\t\\n')\n",
    "tokenizer.fit_on_texts(x_train)\n",
    "## create sequence\n",
    "lst_text2seq= tokenizer.texts_to_sequences(x_train)\n",
    "## padding sequence\n",
    "  \n",
    "X_train = kprocessing.sequence.pad_sequences(lst_text2seq, \n",
    "                    maxlen=600, padding=\"post\", truncating=\"post\")\n"
   ]
  },
  {
   "cell_type": "code",
   "execution_count": 85,
   "id": "continent-kinase",
   "metadata": {},
   "outputs": [],
   "source": [
    "lst_text2seq= tokenizer.texts_to_sequences(x_test)\n",
    "## padding sequence\n",
    "X_test = kprocessing.sequence.pad_sequences(lst_text2seq, \n",
    "                    maxlen=600, padding=\"post\", truncating=\"post\")\n"
   ]
  },
  {
   "cell_type": "code",
   "execution_count": 86,
   "id": "structured-repair",
   "metadata": {},
   "outputs": [],
   "source": [
    "\n",
    "## start the matrix (length of vocabulary x vector size) with all 0s\n",
    "embeddings = np.zeros((len(w2v_model.wv.key_to_index)+2, 300))\n",
    "for word,idx in w2v_model.wv.key_to_index.items():\n",
    "    ## update the row with vector\n",
    "    try:\n",
    "        embeddings[idx] =  w2v_model.wv.get_vector(word)\n",
    "    ## if word not in model then skip and the row stays all 0s\n",
    "    except:\n",
    "        pass"
   ]
  },
  {
   "cell_type": "code",
   "execution_count": 87,
   "id": "included-environment",
   "metadata": {},
   "outputs": [
    {
     "name": "stdout",
     "output_type": "stream",
     "text": [
      "(19695, 300)\n",
      "19694\n"
     ]
    }
   ],
   "source": [
    "print(embeddings.shape)\n",
    "print(np.max(X_train))"
   ]
  },
  {
   "cell_type": "code",
   "execution_count": 88,
   "id": "arranged-birthday",
   "metadata": {},
   "outputs": [
    {
     "name": "stdout",
     "output_type": "stream",
     "text": [
      "Model: \"model_6\"\n",
      "_________________________________________________________________\n",
      "Layer (type)                 Output Shape              Param #   \n",
      "=================================================================\n",
      "input_7 (InputLayer)         [(None, 600)]             0         \n",
      "_________________________________________________________________\n",
      "embedding_6 (Embedding)      (None, 600, 300)          5908500   \n",
      "_________________________________________________________________\n",
      "bidirectional_12 (Bidirectio (None, 600, 30)           37920     \n",
      "_________________________________________________________________\n",
      "bidirectional_13 (Bidirectio (None, 30)                5520      \n",
      "_________________________________________________________________\n",
      "dense_12 (Dense)             (None, 64)                1984      \n",
      "_________________________________________________________________\n",
      "dense_13 (Dense)             (None, 20)                1300      \n",
      "=================================================================\n",
      "Total params: 5,955,224\n",
      "Trainable params: 46,724\n",
      "Non-trainable params: 5,908,500\n",
      "_________________________________________________________________\n"
     ]
    }
   ],
   "source": [
    "callback = tf.keras.callbacks.EarlyStopping(monitor='loss', patience=3)\n",
    "\n",
    "## input\n",
    "x_in = layers.Input(shape=(600,))\n",
    "## embedding\n",
    "x = layers.Embedding(embeddings.shape[0],  \n",
    "                     embeddings.shape[1],\n",
    "                     weights=[embeddings],\n",
    "                     input_length=600, trainable=False)(x_in)\n",
    "\n",
    "## 2 layers of bidirectional lstm\n",
    "x = layers.Bidirectional(layers.LSTM(units=15, dropout=0.2, \n",
    "                         return_sequences=True))(x)\n",
    "x = layers.Bidirectional(layers.LSTM(units=15, dropout=0.2))(x)\n",
    "## final dense layers\n",
    "x = layers.Dense(64, activation='relu')(x)\n",
    "y_out = layers.Dense(20, activation='softmax')(x)\n",
    "## compile\n",
    "model = models.Model(x_in, y_out)\n",
    "\n",
    "model.compile(loss='sparse_categorical_crossentropy',\n",
    "              optimizer='adam', metrics=['accuracy'])\n",
    "\n",
    "model.summary()"
   ]
  },
  {
   "cell_type": "code",
   "execution_count": null,
   "id": "separate-header",
   "metadata": {},
   "outputs": [],
   "source": []
  },
  {
   "cell_type": "code",
   "execution_count": 89,
   "id": "every-bolivia",
   "metadata": {},
   "outputs": [
    {
     "name": "stdout",
     "output_type": "stream",
     "text": [
      "Epoch 1/50\n",
      "122/122 - 95s - loss: 2.3774 - accuracy: 0.3024 - val_loss: 1.6481 - val_accuracy: 0.5177\n",
      "Epoch 2/50\n",
      "122/122 - 89s - loss: 1.3443 - accuracy: 0.6109 - val_loss: 1.0862 - val_accuracy: 0.7194\n",
      "Epoch 3/50\n",
      "122/122 - 90s - loss: 0.9137 - accuracy: 0.7470 - val_loss: 0.7724 - val_accuracy: 0.8041\n",
      "Epoch 4/50\n",
      "122/122 - 88s - loss: 0.6742 - accuracy: 0.8100 - val_loss: 0.7051 - val_accuracy: 0.8041\n",
      "Epoch 5/50\n",
      "122/122 - 88s - loss: 0.5418 - accuracy: 0.8446 - val_loss: 0.5491 - val_accuracy: 0.8573\n",
      "Epoch 6/50\n",
      "122/122 - 88s - loss: 0.4571 - accuracy: 0.8705 - val_loss: 0.5034 - val_accuracy: 0.8642\n",
      "Epoch 7/50\n",
      "122/122 - 89s - loss: 0.3948 - accuracy: 0.8870 - val_loss: 0.4552 - val_accuracy: 0.8786\n",
      "Epoch 8/50\n",
      "122/122 - 88s - loss: 0.3437 - accuracy: 0.9016 - val_loss: 0.4202 - val_accuracy: 0.8942\n",
      "Epoch 9/50\n",
      "122/122 - 88s - loss: 0.3100 - accuracy: 0.9111 - val_loss: 0.3948 - val_accuracy: 0.9087\n",
      "Epoch 10/50\n",
      "122/122 - 88s - loss: 0.2673 - accuracy: 0.9255 - val_loss: 0.3607 - val_accuracy: 0.9168\n",
      "Epoch 11/50\n",
      "122/122 - 88s - loss: 0.2383 - accuracy: 0.9329 - val_loss: 0.3581 - val_accuracy: 0.9159\n",
      "Epoch 12/50\n",
      "122/122 - 88s - loss: 0.2112 - accuracy: 0.9409 - val_loss: 0.3564 - val_accuracy: 0.9168\n",
      "Epoch 13/50\n",
      "122/122 - 89s - loss: 0.1985 - accuracy: 0.9416 - val_loss: 0.3134 - val_accuracy: 0.9243\n",
      "Epoch 14/50\n",
      "122/122 - 88s - loss: 0.1759 - accuracy: 0.9498 - val_loss: 0.3289 - val_accuracy: 0.9234\n",
      "Epoch 15/50\n",
      "122/122 - 88s - loss: 0.1648 - accuracy: 0.9528 - val_loss: 0.3055 - val_accuracy: 0.9312\n",
      "Epoch 16/50\n",
      "122/122 - 89s - loss: 0.1525 - accuracy: 0.9545 - val_loss: 0.3215 - val_accuracy: 0.9264\n",
      "Epoch 17/50\n",
      "122/122 - 94s - loss: 0.1368 - accuracy: 0.9601 - val_loss: 0.2990 - val_accuracy: 0.9324\n",
      "Epoch 18/50\n",
      "122/122 - 94s - loss: 0.1299 - accuracy: 0.9597 - val_loss: 0.3183 - val_accuracy: 0.9309\n",
      "Epoch 19/50\n",
      "122/122 - 101s - loss: 0.1235 - accuracy: 0.9625 - val_loss: 0.3261 - val_accuracy: 0.9282\n",
      "Epoch 20/50\n",
      "122/122 - 106s - loss: 0.1218 - accuracy: 0.9639 - val_loss: 0.3216 - val_accuracy: 0.9321\n",
      "Epoch 21/50\n",
      "122/122 - 97s - loss: 0.1117 - accuracy: 0.9656 - val_loss: 0.2877 - val_accuracy: 0.9366\n",
      "Epoch 22/50\n",
      "122/122 - 92s - loss: 0.0974 - accuracy: 0.9723 - val_loss: 0.3178 - val_accuracy: 0.9339\n",
      "Epoch 23/50\n",
      "122/122 - 104s - loss: 0.0974 - accuracy: 0.9710 - val_loss: 0.3010 - val_accuracy: 0.9342\n",
      "Epoch 24/50\n",
      "122/122 - 94s - loss: 0.0909 - accuracy: 0.9736 - val_loss: 0.3396 - val_accuracy: 0.9342\n",
      "Epoch 25/50\n",
      "122/122 - 96s - loss: 0.0903 - accuracy: 0.9733 - val_loss: 0.3179 - val_accuracy: 0.9381\n",
      "Epoch 26/50\n",
      "122/122 - 102s - loss: 0.0849 - accuracy: 0.9751 - val_loss: 0.3978 - val_accuracy: 0.9186\n",
      "Epoch 27/50\n",
      "122/122 - 103s - loss: 0.0780 - accuracy: 0.9780 - val_loss: 0.3380 - val_accuracy: 0.9321\n",
      "Epoch 28/50\n",
      "122/122 - 95s - loss: 0.0691 - accuracy: 0.9782 - val_loss: 0.3611 - val_accuracy: 0.9318\n",
      "Epoch 29/50\n",
      "122/122 - 100s - loss: 0.0863 - accuracy: 0.9736 - val_loss: 0.3083 - val_accuracy: 0.9414\n",
      "Epoch 30/50\n",
      "122/122 - 98s - loss: 0.0678 - accuracy: 0.9773 - val_loss: 0.3511 - val_accuracy: 0.9336\n",
      "Epoch 31/50\n",
      "122/122 - 105s - loss: 0.0731 - accuracy: 0.9775 - val_loss: 0.3064 - val_accuracy: 0.9429\n",
      "Epoch 32/50\n",
      "122/122 - 109s - loss: 0.0552 - accuracy: 0.9823 - val_loss: 0.3188 - val_accuracy: 0.9384\n",
      "Epoch 33/50\n",
      "122/122 - 94s - loss: 0.0575 - accuracy: 0.9813 - val_loss: 0.3044 - val_accuracy: 0.9429\n",
      "Epoch 34/50\n",
      "122/122 - 96s - loss: 0.0578 - accuracy: 0.9829 - val_loss: 0.3115 - val_accuracy: 0.9429\n",
      "Epoch 35/50\n",
      "122/122 - 94s - loss: 0.0518 - accuracy: 0.9847 - val_loss: 0.2965 - val_accuracy: 0.9450\n",
      "Epoch 36/50\n",
      "122/122 - 104s - loss: 0.0476 - accuracy: 0.9858 - val_loss: 0.3709 - val_accuracy: 0.9306\n",
      "Epoch 37/50\n",
      "122/122 - 97s - loss: 0.0527 - accuracy: 0.9835 - val_loss: 0.3170 - val_accuracy: 0.9462\n",
      "Epoch 38/50\n",
      "122/122 - 104s - loss: 0.0452 - accuracy: 0.9853 - val_loss: 0.3187 - val_accuracy: 0.9438\n",
      "Epoch 39/50\n",
      "122/122 - 99s - loss: 0.0553 - accuracy: 0.9817 - val_loss: 0.3439 - val_accuracy: 0.9378\n",
      "Epoch 40/50\n",
      "122/122 - 103s - loss: 0.0408 - accuracy: 0.9865 - val_loss: 0.3162 - val_accuracy: 0.9453\n",
      "Epoch 41/50\n",
      "122/122 - 102s - loss: 0.0403 - accuracy: 0.9876 - val_loss: 0.3309 - val_accuracy: 0.9420\n",
      "Epoch 42/50\n",
      "122/122 - 100s - loss: 0.0428 - accuracy: 0.9861 - val_loss: 0.3352 - val_accuracy: 0.9450\n",
      "Epoch 43/50\n",
      "122/122 - 102s - loss: 0.0374 - accuracy: 0.9871 - val_loss: 0.3387 - val_accuracy: 0.9435\n",
      "Epoch 44/50\n",
      "122/122 - 100s - loss: 0.0323 - accuracy: 0.9893 - val_loss: 0.3867 - val_accuracy: 0.9354\n",
      "Epoch 45/50\n",
      "122/122 - 100s - loss: 0.0396 - accuracy: 0.9869 - val_loss: 0.3151 - val_accuracy: 0.9480\n",
      "Epoch 46/50\n",
      "122/122 - 99s - loss: 0.0460 - accuracy: 0.9852 - val_loss: 0.3753 - val_accuracy: 0.9381\n",
      "Epoch 47/50\n",
      "122/122 - 96s - loss: 0.0479 - accuracy: 0.9849 - val_loss: 0.3370 - val_accuracy: 0.9462\n"
     ]
    }
   ],
   "source": [
    "## train\n",
    "training = model.fit(x=X_train, y=Y_train, batch_size=64, \n",
    "                     epochs=50, shuffle=True, verbose=2,callbacks=[callback], \n",
    "                     validation_split=0.3)\n"
   ]
  },
  {
   "cell_type": "code",
   "execution_count": 90,
   "id": "permanent-spine",
   "metadata": {},
   "outputs": [
    {
     "data": {
      "image/png": "[encoded data removed]",
      "text/plain": [
       "<Figure size 432x288 with 4 Axes>"
      ]
     },
     "metadata": {
      "needs_background": "light"
     },
     "output_type": "display_data"
    }
   ],
   "source": [
    "## plot loss and accuracy\n",
    "metrics = [k for k in training.history.keys() if (\"loss\" not in k) and (\"val\" not in k)]\n",
    "fig, ax = plt.subplots(nrows=1, ncols=2, sharey=True)\n",
    "ax[0].set(title=\"Training\")\n",
    "ax11 = ax[0].twinx()\n",
    "ax[0].plot(training.history['loss'], color='black')\n",
    "ax[0].set_xlabel('Epochs')\n",
    "ax[0].set_ylabel('Loss', color='black')\n",
    "for metric in metrics:\n",
    "    ax11.plot(training.history[metric], label=metric)\n",
    "ax11.set_ylabel(\"Score\", color='steelblue')\n",
    "ax11.legend()\n",
    "ax[1].set(title=\"Validation\")\n",
    "ax22 = ax[1].twinx()\n",
    "ax[1].plot(training.history['val_loss'], color='black')\n",
    "ax[1].set_xlabel('Epochs')\n",
    "ax[1].set_ylabel('Loss', color='black')\n",
    "for metric in metrics:\n",
    "     ax22.plot(training.history['val_'+metric], label=metric)\n",
    "ax22.set_ylabel(\"Score\", color=\"steelblue\")\n",
    "plt.show()"
   ]
  },
  {
   "cell_type": "code",
   "execution_count": 93,
   "id": "growing-burden",
   "metadata": {},
   "outputs": [],
   "source": [
    "## test\n",
    "predicted_prob = model.predict(X_test)\n",
    "predicted = [dic_y_mapping[np.argmax(pred)] for pred in \n",
    "             predicted_prob]\n",
    "predicted_vec = [ inverse_dic[p] for p in predicted]"
   ]
  },
  {
   "cell_type": "code",
   "execution_count": 95,
   "id": "elect-ability",
   "metadata": {},
   "outputs": [
    {
     "data": {
      "image/png": "[encoded data removed]",
      "text/plain": [
       "<Figure size 1080x864 with 2 Axes>"
      ]
     },
     "metadata": {
      "needs_background": "light"
     },
     "output_type": "display_data"
    },
    {
     "name": "stdout",
     "output_type": "stream",
     "text": [
      "              precision    recall  f1-score   support\n",
      "\n",
      "           0       0.98      0.94      0.96       305\n",
      "           1       0.81      0.68      0.73        80\n",
      "           2       0.79      0.92      0.85        61\n",
      "           3       0.85      0.92      0.89       197\n",
      "           4       0.98      0.93      0.95       188\n",
      "           5       0.99      0.98      0.99       312\n",
      "           6       0.93      0.91      0.92        57\n",
      "           7       0.91      0.96      0.93       232\n",
      "           8       0.87      0.93      0.90       157\n",
      "           9       0.99      0.99      0.99       814\n",
      "          10       0.92      0.94      0.93       139\n",
      "          11       0.86      0.91      0.89       197\n",
      "          12       0.98      0.99      0.99       397\n",
      "          13       0.90      0.89      0.90       167\n",
      "          14       0.79      0.59      0.67        82\n",
      "          15       0.72      0.53      0.61        53\n",
      "          16       0.91      0.98      0.95        98\n",
      "          17       0.70      0.79      0.74        95\n",
      "          18       1.00      0.99      0.99       144\n",
      "          19       0.99      0.99      0.99       979\n",
      "\n",
      "    accuracy                           0.95      4754\n",
      "   macro avg       0.89      0.89      0.89      4754\n",
      "weighted avg       0.95      0.95      0.95      4754\n",
      "\n"
     ]
    }
   ],
   "source": [
    "conf_mat = m.confusion_matrix(Y_test, predicted_vec,normalize = None)\n",
    "plt.figure(figsize = (15,12))\n",
    "sns.heatmap(conf_mat, annot=True)\n",
    "plt.ylabel('Actual')\n",
    "plt.xlabel('Predicted')\n",
    "plt.show()\n",
    "\n",
    "# target_strings = encoder.inverse_transform(np.arange(20))\n",
    "\n",
    "print(m.classification_report(Y_test, predicted_vec))"
   ]
  },
  {
   "cell_type": "code",
   "execution_count": null,
   "id": "musical-train",
   "metadata": {},
   "outputs": [],
   "source": []
  }
 ],
 "metadata": {
  "kernelspec": {
   "display_name": "Python 3",
   "language": "python",
   "name": "python3"
  },
  "language_info": {
   "codemirror_mode": {
    "name": "ipython",
    "version": 3
   },
   "file_extension": ".py",
   "mimetype": "text/x-python",
   "name": "python",
   "nbconvert_exporter": "python",
   "pygments_lexer": "ipython3",
   "version": "3.8.6"
  }
 },
 "nbformat": 4,
 "nbformat_minor": 5
}
