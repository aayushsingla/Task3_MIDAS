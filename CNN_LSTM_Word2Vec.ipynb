{
 "cells": [
  {
   "cell_type": "code",
   "execution_count": 28,
   "id": "british-cathedral",
   "metadata": {},
   "outputs": [
    {
     "name": "stdout",
     "output_type": "stream",
     "text": [
      "4\n"
     ]
    }
   ],
   "source": [
    "import pandas as pd\n",
    "import numpy as np\n",
    "import matplotlib.pyplot as plt\n",
    "import seaborn as sns\n",
    "from sklearn import feature_extraction, model_selection, naive_bayes, pipeline, manifold, preprocessing, metrics\n",
    "import multiprocessing\n",
    "from gensim.models.word2vec import Word2Vec\n",
    "cores = multiprocessing.cpu_count() # Count the number of cores in a computer\n",
    "from gensim.models.phrases import Phrases, Phraser\n",
    "import nltk\n",
    "print(cores)\n",
    "from time import time"
   ]
  },
  {
   "cell_type": "code",
   "execution_count": 22,
   "id": "moved-microphone",
   "metadata": {},
   "outputs": [
    {
     "name": "stdout",
     "output_type": "stream",
     "text": [
      "our training set contains 9882 examples\n",
      "our test set contains 4236 examples\n"
     ]
    }
   ],
   "source": [
    "dataset = pd.read_csv('/home/aayush/task3_midas/datasets/imbalanced_dataset_200.csv')\n",
    "train, test = model_selection.train_test_split(dataset, test_size=0.3)\n",
    "x_train = train[\"pre_processed_text\"].values\n",
    "x_test = test[\"pre_processed_text\"].values\n",
    "y_train = train[\"category\"].values\n",
    "y_test = test[\"category\"].values\n",
    "print(\"our training set contains %d examples\"%(len(x_train)))\n",
    "print(\"our test set contains %d examples\"%(len(x_test)))"
   ]
  },
  {
   "cell_type": "code",
   "execution_count": 34,
   "id": "hourly-specialist",
   "metadata": {},
   "outputs": [
    {
     "name": "stdout",
     "output_type": "stream",
     "text": [
      "Time to build vocab: 0.01 mins\n",
      "9882\n"
     ]
    }
   ],
   "source": [
    "w2v_model = Word2Vec(vector_size = 300,window=8, min_count=1, sg=1,  workers=cores-1)\n",
    "word_sentences = list()\n",
    "for x in x_train:\n",
    "    word_sentences.append(x.split())\n",
    "t = time()\n",
    "w2v_model.build_vocab(word_sentences, progress_per=100)\n",
    "print('Time to build vocab: {} mins'.format(round((time() - t) / 60, 2)))\n",
    "print(len(word_sentences))"
   ]
  },
  {
   "cell_type": "code",
   "execution_count": 44,
   "id": "operating-medicine",
   "metadata": {},
   "outputs": [
    {
     "name": "stdout",
     "output_type": "stream",
     "text": [
      "Time to train the model: 1.45 mins\n"
     ]
    }
   ],
   "source": [
    "t = time()\n",
    "\n",
    "w2v_model.train(word_sentences, total_examples=w2v_model.corpus_count, epochs=30, report_delay=1)\n",
    "\n",
    "print('Time to train the model: {} mins'.format(round((time() - t) / 60, 2)))\n"
   ]
  },
  {
   "cell_type": "code",
   "execution_count": 45,
   "id": "affiliated-adams",
   "metadata": {},
   "outputs": [
    {
     "data": {
      "text/plain": [
       "[('bumper', 0.4944092631340027),\n",
       " ('astar', 0.4833182394504547),\n",
       " ('getz', 0.48186466097831726),\n",
       " ('optra', 0.47921133041381836),\n",
       " ('teana', 0.47248953580856323),\n",
       " ('maruti', 0.4703279435634613),\n",
       " ('logan', 0.46697190403938293),\n",
       " ('koleos', 0.4638533294200897),\n",
       " ('hyundai', 0.4634675979614258),\n",
       " ('gurad', 0.46091601252555847)]"
      ]
     },
     "execution_count": 45,
     "metadata": {},
     "output_type": "execute_result"
    }
   ],
   "source": [
    "w2v_model.wv.most_similar(positive=['car'])"
   ]
  },
  {
   "cell_type": "code",
   "execution_count": 52,
   "id": "technological-retro",
   "metadata": {},
   "outputs": [
    {
     "name": "stdout",
     "output_type": "stream",
     "text": [
      "17235\n"
     ]
    }
   ],
   "source": [
    "print(len(w2v_model.wv.key_to_index))"
   ]
  },
  {
   "cell_type": "code",
   "execution_count": 53,
   "id": "black-degree",
   "metadata": {},
   "outputs": [],
   "source": [
    "w2v_model.save('model.bin')"
   ]
  },
  {
   "cell_type": "code",
   "execution_count": null,
   "id": "social-handling",
   "metadata": {},
   "outputs": [],
   "source": []
  }
 ],
 "metadata": {
  "kernelspec": {
   "display_name": "Python 3",
   "language": "python",
   "name": "python3"
  },
  "language_info": {
   "codemirror_mode": {
    "name": "ipython",
    "version": 3
   },
   "file_extension": ".py",
   "mimetype": "text/x-python",
   "name": "python",
   "nbconvert_exporter": "python",
   "pygments_lexer": "ipython3",
   "version": "3.8.6"
  }
 },
 "nbformat": 4,
 "nbformat_minor": 5
}
